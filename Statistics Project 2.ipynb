{
 "cells": [
  {
   "cell_type": "code",
   "execution_count": 1,
   "metadata": {
    "collapsed": true
   },
   "outputs": [],
   "source": [
    "import pandas as pd\n",
    "import numpy as np\n",
    "import matplotlib.pyplot as plt\n",
    "import scipy as sp\n",
    "from scipy import stats\n",
    "%matplotlib inline"
   ]
  },
  {
   "cell_type": "code",
   "execution_count": 2,
   "metadata": {
    "collapsed": true
   },
   "outputs": [],
   "source": [
    "data = pd.read_excel(\"NormTemp.xlsx\")\n",
    "temp = data[\"Temp\"]\n",
    "male_temp = data[\"Temp\"][data[\"Gender\"] == 1]\n",
    "female_temp = data[\"Temp\"][data[\"Gender\"] == 2]\n",
    "heart_rate = data[\"Heart Rate\"]"
   ]
  },
  {
   "cell_type": "markdown",
   "metadata": {},
   "source": [
    "## Finding Mean of Temperature"
   ]
  },
  {
   "cell_type": "code",
   "execution_count": 3,
   "metadata": {
    "collapsed": true
   },
   "outputs": [],
   "source": [
    "mean = temp.sum() / temp.size"
   ]
  },
  {
   "cell_type": "code",
   "execution_count": 4,
   "metadata": {},
   "outputs": [
    {
     "name": "stdout",
     "output_type": "stream",
     "text": [
      "The true population mean is 98.24923076923076 F\n"
     ]
    }
   ],
   "source": [
    "print(\"The true population mean is\", mean, \"F\")"
   ]
  },
  {
   "cell_type": "markdown",
   "metadata": {},
   "source": [
    "## Testing Normal Distribution"
   ]
  },
  {
   "cell_type": "code",
   "execution_count": 5,
   "metadata": {
    "collapsed": true
   },
   "outputs": [],
   "source": [
    "alpha = 0.05"
   ]
  },
  {
   "cell_type": "code",
   "execution_count": 6,
   "metadata": {},
   "outputs": [
    {
     "data": {
      "text/plain": [
       "(array([  4.,   6.,  15.,  26.,  30.,  30.,  15.,   1.,   2.,   1.]),\n",
       " array([  96.3 ,   96.75,   97.2 ,   97.65,   98.1 ,   98.55,   99.  ,\n",
       "          99.45,   99.9 ,  100.35,  100.8 ]),\n",
       " <a list of 10 Patch objects>)"
      ]
     },
     "execution_count": 6,
     "metadata": {},
     "output_type": "execute_result"
    },
    {
     "data": {
      "image/png": "[encoded data removed]",
      "text/plain": [
       "<matplotlib.figure.Figure at 0x1b56ccdd6a0>"
      ]
     },
     "metadata": {},
     "output_type": "display_data"
    }
   ],
   "source": [
    "plt.hist(temp)"
   ]
  },
  {
   "cell_type": "code",
   "execution_count": 7,
   "metadata": {
    "collapsed": true
   },
   "outputs": [],
   "source": [
    "s, p = sp.stats.normaltest(temp)"
   ]
  },
  {
   "cell_type": "code",
   "execution_count": 8,
   "metadata": {},
   "outputs": [
    {
     "name": "stdout",
     "output_type": "stream",
     "text": [
      "The distribution is approximately normal. P value is 0.258747986349\n"
     ]
    }
   ],
   "source": [
    "if p < alpha:\n",
    "    print(\"The distributon is not approximately normal. P value is\", p)\n",
    "elif p > alpha:\n",
    "    print(\"The distribution is approximately normal. P value is\", p)"
   ]
  },
  {
   "cell_type": "markdown",
   "metadata": {},
   "source": [
    "## Checking Abnormality"
   ]
  },
  {
   "cell_type": "code",
   "execution_count": 9,
   "metadata": {
    "collapsed": true
   },
   "outputs": [],
   "source": [
    "std = temp.std()"
   ]
  },
  {
   "cell_type": "code",
   "execution_count": 10,
   "metadata": {
    "collapsed": true
   },
   "outputs": [],
   "source": [
    "one_std = (mean - std, mean + std)\n",
    "two_std = (mean - (2*std), mean + (2*std))"
   ]
  },
  {
   "cell_type": "markdown",
   "metadata": {},
   "source": [
    "### One Standard Deviation = 68%\n",
    "### Two Standard Deviations = 95%\n",
    "### Three Standard Deviations = 99.7%"
   ]
  },
  {
   "cell_type": "markdown",
   "metadata": {},
   "source": [
    "It depends on how we define abnormal. We define temperature as normal if it is close to the mean. We believe that is a temperature is outside of two standard deviations from the mean, then it is considered as abnormal."
   ]
  },
  {
   "cell_type": "code",
   "execution_count": 11,
   "metadata": {},
   "outputs": [
    {
     "name": "stdout",
     "output_type": "stream",
     "text": [
      "Temperatures below 96.78286445315287 and temperatures above 99.71559708530866 are considered abnormal.\n"
     ]
    }
   ],
   "source": [
    "two_std_values1 = temp[(temp < two_std[0])]\n",
    "two_std_values2 = temp[(temp > two_std[1])]\n",
    "print(\"Temperatures below\", two_std[0], \"and temperatures above\", two_std[1], \"are considered abnormal.\")"
   ]
  },
  {
   "cell_type": "markdown",
   "metadata": {},
   "source": [
    "## Mean Testing"
   ]
  },
  {
   "cell_type": "code",
   "execution_count": 12,
   "metadata": {
    "collapsed": true
   },
   "outputs": [],
   "source": [
    "male_mean = male_temp.mean()\n",
    "female_mean = female_temp.mean()"
   ]
  },
  {
   "cell_type": "code",
   "execution_count": 13,
   "metadata": {},
   "outputs": [
    {
     "name": "stdout",
     "output_type": "stream",
     "text": [
      "The average male temperature is 98.1046153846154 and the average female temperature is 98.39384615384616\n"
     ]
    }
   ],
   "source": [
    "print(\"The average male temperature is\", male_mean, \"and the average female temperature is\", female_mean)"
   ]
  },
  {
   "cell_type": "code",
   "execution_count": 79,
   "metadata": {},
   "outputs": [
    {
     "name": "stdout",
     "output_type": "stream",
     "text": [
      "-2.28543453817 0.0239318831224\n"
     ]
    }
   ],
   "source": [
    "s, p = sp.stats.ttest_ind(male_temp, female_temp)\n",
    "if p < alpha:\n",
    "    print(\"p-value:\", p)\n",
    "    print(\"We fail to reject the null hypothesis that the mean is similar\")\n",
    "elif p > alp"
   ]
  },
  {
   "cell_type": "markdown",
   "metadata": {},
   "source": [
    "## Variance Testing"
   ]
  },
  {
   "cell_type": "code",
   "execution_count": 14,
   "metadata": {
    "collapsed": true
   },
   "outputs": [],
   "source": [
    "male_variance = male_temp.var()\n",
    "female_variance = female_temp.var()"
   ]
  },
  {
   "cell_type": "code",
   "execution_count": 15,
   "metadata": {},
   "outputs": [
    {
     "name": "stdout",
     "output_type": "stream",
     "text": [
      "The variance of male temperature is 0.4882596153846146 and the variance of female temperature is 0.5527740384615372\n"
     ]
    }
   ],
   "source": [
    "print(\"The variance of male temperature is\", male_variance, \"and the variance of female temperature is\", female_variance)"
   ]
  },
  {
   "cell_type": "code",
   "execution_count": 80,
   "metadata": {},
   "outputs": [
    {
     "name": "stdout",
     "output_type": "stream",
     "text": [
      "p-value is 0.31054184939\n",
      "Reject null hypothesis that the variance are similar\n"
     ]
    }
   ],
   "source": [
    "F = male_variance / female_variance\n",
    "male_df = len(male_temp) - 1\n",
    "female_df = len(female_temp) - 1\n",
    "\n",
    "p_value = sp.stats.f.cdf(F, male_df, female_df)\n",
    "if p_value > alpha:\n",
    "    print(\"p-value is\", p_value)\n",
    "    print(\"Reject null hypothesis that the variance are similar\")\n",
    "else:\n",
    "    print(\"p-value is\", p_value)\n",
    "    print(\"Fail to reject the null hypothesis that the variance are similar\")"
   ]
  },
  {
   "cell_type": "markdown",
   "metadata": {},
   "source": [
    "## Heart Rate vs Body Temperature"
   ]
  },
  {
   "cell_type": "code",
   "execution_count": 16,
   "metadata": {
    "collapsed": true
   },
   "outputs": [],
   "source": [
    "m, b, r, p, std_error = sp.stats.linregress(temp, heart_rate)"
   ]
  },
  {
   "cell_type": "code",
   "execution_count": 17,
   "metadata": {
    "collapsed": true
   },
   "outputs": [],
   "source": [
    "f = lambda x: m*x + b"
   ]
  },
  {
   "cell_type": "code",
   "execution_count": 18,
   "metadata": {},
   "outputs": [
    {
     "data": {
      "text/plain": [
       "<matplotlib.text.Text at 0x1b570b5ad68>"
      ]
     },
     "execution_count": 18,
     "metadata": {},
     "output_type": "execute_result"
    },
    {
     "data": {
      "image/png": "[encoded data removed]",
      "text/plain": [
       "<matplotlib.figure.Figure at 0x1b56ccdd860>"
      ]
     },
     "metadata": {},
     "output_type": "display_data"
    }
   ],
   "source": [
    "plt.scatter(temp, heart_rate)\n",
    "plt.plot(temp, f(temp))\n",
    "plt.xlabel(\"Temperature\")\n",
    "plt.ylabel(\"Heart Rate\")"
   ]
  },
  {
   "cell_type": "markdown",
   "metadata": {},
   "source": [
    "# Part 2"
   ]
  },
  {
   "cell_type": "code",
   "execution_count": 19,
   "metadata": {
    "collapsed": true
   },
   "outputs": [],
   "source": [
    "import seaborn as sns"
   ]
  },
  {
   "cell_type": "code",
   "execution_count": 20,
   "metadata": {
    "collapsed": true
   },
   "outputs": [],
   "source": [
    "data_2 = pd.read_excel(\"Mortality.xlsx\")"
   ]
  },
  {
   "cell_type": "code",
   "execution_count": 21,
   "metadata": {},
   "outputs": [
    {
     "data": {
      "text/html": [
       "<div>\n",
       "<style>\n",
       "    .dataframe thead tr:only-child th {\n",
       "        text-align: right;\n",
       "    }\n",
       "\n",
       "    .dataframe thead th {\n",
       "        text-align: left;\n",
       "    }\n",
       "\n",
       "    .dataframe tbody tr th {\n",
       "        vertical-align: top;\n",
       "    }\n",
       "</style>\n",
       "<table border=\"1\" class=\"dataframe\">\n",
       "  <thead>\n",
       "    <tr style=\"text-align: right;\">\n",
       "      <th></th>\n",
       "      <th>Exact Age</th>\n",
       "      <th>Death Probability(M)</th>\n",
       "      <th>Male Number of Lives</th>\n",
       "      <th>Life Expectancy(M)</th>\n",
       "      <th>Death Probability(F)</th>\n",
       "      <th>Female number of Lives</th>\n",
       "      <th>Life Expectancy(F)</th>\n",
       "    </tr>\n",
       "  </thead>\n",
       "  <tbody>\n",
       "    <tr>\n",
       "      <th>0</th>\n",
       "      <td>0</td>\n",
       "      <td>0.006322</td>\n",
       "      <td>100000</td>\n",
       "      <td>76.33</td>\n",
       "      <td>0.005313</td>\n",
       "      <td>100000</td>\n",
       "      <td>81.11</td>\n",
       "    </tr>\n",
       "    <tr>\n",
       "      <th>1</th>\n",
       "      <td>1</td>\n",
       "      <td>0.000396</td>\n",
       "      <td>99368</td>\n",
       "      <td>75.81</td>\n",
       "      <td>0.000346</td>\n",
       "      <td>99469</td>\n",
       "      <td>80.54</td>\n",
       "    </tr>\n",
       "    <tr>\n",
       "      <th>2</th>\n",
       "      <td>2</td>\n",
       "      <td>0.000282</td>\n",
       "      <td>99328</td>\n",
       "      <td>74.84</td>\n",
       "      <td>0.000221</td>\n",
       "      <td>99434</td>\n",
       "      <td>79.57</td>\n",
       "    </tr>\n",
       "    <tr>\n",
       "      <th>3</th>\n",
       "      <td>3</td>\n",
       "      <td>0.000212</td>\n",
       "      <td>99300</td>\n",
       "      <td>73.86</td>\n",
       "      <td>0.000162</td>\n",
       "      <td>99412</td>\n",
       "      <td>78.59</td>\n",
       "    </tr>\n",
       "    <tr>\n",
       "      <th>4</th>\n",
       "      <td>4</td>\n",
       "      <td>0.000186</td>\n",
       "      <td>99279</td>\n",
       "      <td>72.88</td>\n",
       "      <td>0.000131</td>\n",
       "      <td>99396</td>\n",
       "      <td>77.60</td>\n",
       "    </tr>\n",
       "    <tr>\n",
       "      <th>5</th>\n",
       "      <td>5</td>\n",
       "      <td>0.000162</td>\n",
       "      <td>99261</td>\n",
       "      <td>71.89</td>\n",
       "      <td>0.000116</td>\n",
       "      <td>99383</td>\n",
       "      <td>76.61</td>\n",
       "    </tr>\n",
       "    <tr>\n",
       "      <th>6</th>\n",
       "      <td>6</td>\n",
       "      <td>0.000144</td>\n",
       "      <td>99245</td>\n",
       "      <td>70.90</td>\n",
       "      <td>0.000106</td>\n",
       "      <td>99372</td>\n",
       "      <td>75.62</td>\n",
       "    </tr>\n",
       "    <tr>\n",
       "      <th>7</th>\n",
       "      <td>7</td>\n",
       "      <td>0.000129</td>\n",
       "      <td>99231</td>\n",
       "      <td>69.91</td>\n",
       "      <td>0.000098</td>\n",
       "      <td>99361</td>\n",
       "      <td>74.63</td>\n",
       "    </tr>\n",
       "    <tr>\n",
       "      <th>8</th>\n",
       "      <td>8</td>\n",
       "      <td>0.000114</td>\n",
       "      <td>99218</td>\n",
       "      <td>68.92</td>\n",
       "      <td>0.000091</td>\n",
       "      <td>99351</td>\n",
       "      <td>73.64</td>\n",
       "    </tr>\n",
       "    <tr>\n",
       "      <th>9</th>\n",
       "      <td>9</td>\n",
       "      <td>0.000100</td>\n",
       "      <td>99206</td>\n",
       "      <td>67.93</td>\n",
       "      <td>0.000086</td>\n",
       "      <td>99342</td>\n",
       "      <td>72.64</td>\n",
       "    </tr>\n",
       "    <tr>\n",
       "      <th>10</th>\n",
       "      <td>10</td>\n",
       "      <td>0.000093</td>\n",
       "      <td>99197</td>\n",
       "      <td>66.94</td>\n",
       "      <td>0.000084</td>\n",
       "      <td>99334</td>\n",
       "      <td>71.65</td>\n",
       "    </tr>\n",
       "    <tr>\n",
       "      <th>11</th>\n",
       "      <td>11</td>\n",
       "      <td>0.000101</td>\n",
       "      <td>99187</td>\n",
       "      <td>65.94</td>\n",
       "      <td>0.000087</td>\n",
       "      <td>99325</td>\n",
       "      <td>70.66</td>\n",
       "    </tr>\n",
       "    <tr>\n",
       "      <th>12</th>\n",
       "      <td>12</td>\n",
       "      <td>0.000136</td>\n",
       "      <td>99177</td>\n",
       "      <td>64.95</td>\n",
       "      <td>0.000100</td>\n",
       "      <td>99317</td>\n",
       "      <td>69.66</td>\n",
       "    </tr>\n",
       "    <tr>\n",
       "      <th>13</th>\n",
       "      <td>13</td>\n",
       "      <td>0.000205</td>\n",
       "      <td>99164</td>\n",
       "      <td>63.96</td>\n",
       "      <td>0.000124</td>\n",
       "      <td>99307</td>\n",
       "      <td>68.67</td>\n",
       "    </tr>\n",
       "    <tr>\n",
       "      <th>14</th>\n",
       "      <td>14</td>\n",
       "      <td>0.000299</td>\n",
       "      <td>99144</td>\n",
       "      <td>62.97</td>\n",
       "      <td>0.000157</td>\n",
       "      <td>99294</td>\n",
       "      <td>67.68</td>\n",
       "    </tr>\n",
       "    <tr>\n",
       "      <th>15</th>\n",
       "      <td>15</td>\n",
       "      <td>0.000401</td>\n",
       "      <td>99114</td>\n",
       "      <td>61.99</td>\n",
       "      <td>0.000194</td>\n",
       "      <td>99279</td>\n",
       "      <td>66.69</td>\n",
       "    </tr>\n",
       "    <tr>\n",
       "      <th>16</th>\n",
       "      <td>16</td>\n",
       "      <td>0.000505</td>\n",
       "      <td>99074</td>\n",
       "      <td>61.02</td>\n",
       "      <td>0.000232</td>\n",
       "      <td>99260</td>\n",
       "      <td>65.70</td>\n",
       "    </tr>\n",
       "    <tr>\n",
       "      <th>17</th>\n",
       "      <td>17</td>\n",
       "      <td>0.000620</td>\n",
       "      <td>99024</td>\n",
       "      <td>60.05</td>\n",
       "      <td>0.000269</td>\n",
       "      <td>99237</td>\n",
       "      <td>64.72</td>\n",
       "    </tr>\n",
       "    <tr>\n",
       "      <th>18</th>\n",
       "      <td>18</td>\n",
       "      <td>0.000747</td>\n",
       "      <td>98963</td>\n",
       "      <td>59.08</td>\n",
       "      <td>0.000304</td>\n",
       "      <td>99210</td>\n",
       "      <td>63.73</td>\n",
       "    </tr>\n",
       "    <tr>\n",
       "      <th>19</th>\n",
       "      <td>19</td>\n",
       "      <td>0.000879</td>\n",
       "      <td>98889</td>\n",
       "      <td>58.13</td>\n",
       "      <td>0.000338</td>\n",
       "      <td>99180</td>\n",
       "      <td>62.75</td>\n",
       "    </tr>\n",
       "    <tr>\n",
       "      <th>20</th>\n",
       "      <td>20</td>\n",
       "      <td>0.001019</td>\n",
       "      <td>98802</td>\n",
       "      <td>57.18</td>\n",
       "      <td>0.000373</td>\n",
       "      <td>99146</td>\n",
       "      <td>61.77</td>\n",
       "    </tr>\n",
       "    <tr>\n",
       "      <th>21</th>\n",
       "      <td>21</td>\n",
       "      <td>0.001151</td>\n",
       "      <td>98701</td>\n",
       "      <td>56.24</td>\n",
       "      <td>0.000409</td>\n",
       "      <td>99109</td>\n",
       "      <td>60.80</td>\n",
       "    </tr>\n",
       "    <tr>\n",
       "      <th>22</th>\n",
       "      <td>22</td>\n",
       "      <td>0.001252</td>\n",
       "      <td>98588</td>\n",
       "      <td>55.30</td>\n",
       "      <td>0.000442</td>\n",
       "      <td>99069</td>\n",
       "      <td>59.82</td>\n",
       "    </tr>\n",
       "    <tr>\n",
       "      <th>23</th>\n",
       "      <td>23</td>\n",
       "      <td>0.001309</td>\n",
       "      <td>98464</td>\n",
       "      <td>54.37</td>\n",
       "      <td>0.000471</td>\n",
       "      <td>99025</td>\n",
       "      <td>58.85</td>\n",
       "    </tr>\n",
       "    <tr>\n",
       "      <th>24</th>\n",
       "      <td>24</td>\n",
       "      <td>0.001335</td>\n",
       "      <td>98335</td>\n",
       "      <td>53.44</td>\n",
       "      <td>0.000497</td>\n",
       "      <td>98978</td>\n",
       "      <td>57.87</td>\n",
       "    </tr>\n",
       "    <tr>\n",
       "      <th>25</th>\n",
       "      <td>25</td>\n",
       "      <td>0.001349</td>\n",
       "      <td>98204</td>\n",
       "      <td>52.51</td>\n",
       "      <td>0.000524</td>\n",
       "      <td>98929</td>\n",
       "      <td>56.90</td>\n",
       "    </tr>\n",
       "    <tr>\n",
       "      <th>26</th>\n",
       "      <td>26</td>\n",
       "      <td>0.001369</td>\n",
       "      <td>98072</td>\n",
       "      <td>51.58</td>\n",
       "      <td>0.000553</td>\n",
       "      <td>98877</td>\n",
       "      <td>55.93</td>\n",
       "    </tr>\n",
       "    <tr>\n",
       "      <th>27</th>\n",
       "      <td>27</td>\n",
       "      <td>0.001391</td>\n",
       "      <td>97937</td>\n",
       "      <td>50.65</td>\n",
       "      <td>0.000582</td>\n",
       "      <td>98822</td>\n",
       "      <td>54.96</td>\n",
       "    </tr>\n",
       "    <tr>\n",
       "      <th>28</th>\n",
       "      <td>28</td>\n",
       "      <td>0.001422</td>\n",
       "      <td>97801</td>\n",
       "      <td>49.72</td>\n",
       "      <td>0.000611</td>\n",
       "      <td>98765</td>\n",
       "      <td>53.99</td>\n",
       "    </tr>\n",
       "    <tr>\n",
       "      <th>29</th>\n",
       "      <td>29</td>\n",
       "      <td>0.001459</td>\n",
       "      <td>97662</td>\n",
       "      <td>48.79</td>\n",
       "      <td>0.000641</td>\n",
       "      <td>98705</td>\n",
       "      <td>53.03</td>\n",
       "    </tr>\n",
       "    <tr>\n",
       "      <th>...</th>\n",
       "      <td>...</td>\n",
       "      <td>...</td>\n",
       "      <td>...</td>\n",
       "      <td>...</td>\n",
       "      <td>...</td>\n",
       "      <td>...</td>\n",
       "      <td>...</td>\n",
       "    </tr>\n",
       "    <tr>\n",
       "      <th>90</th>\n",
       "      <td>90</td>\n",
       "      <td>0.164525</td>\n",
       "      <td>18107</td>\n",
       "      <td>4.08</td>\n",
       "      <td>0.129475</td>\n",
       "      <td>29650</td>\n",
       "      <td>4.85</td>\n",
       "    </tr>\n",
       "    <tr>\n",
       "      <th>91</th>\n",
       "      <td>91</td>\n",
       "      <td>0.181600</td>\n",
       "      <td>15128</td>\n",
       "      <td>3.79</td>\n",
       "      <td>0.144443</td>\n",
       "      <td>25811</td>\n",
       "      <td>4.50</td>\n",
       "    </tr>\n",
       "    <tr>\n",
       "      <th>92</th>\n",
       "      <td>92</td>\n",
       "      <td>0.199884</td>\n",
       "      <td>12381</td>\n",
       "      <td>3.52</td>\n",
       "      <td>0.160590</td>\n",
       "      <td>22083</td>\n",
       "      <td>4.18</td>\n",
       "    </tr>\n",
       "    <tr>\n",
       "      <th>93</th>\n",
       "      <td>93</td>\n",
       "      <td>0.219331</td>\n",
       "      <td>9906</td>\n",
       "      <td>3.27</td>\n",
       "      <td>0.177853</td>\n",
       "      <td>18536</td>\n",
       "      <td>3.88</td>\n",
       "    </tr>\n",
       "    <tr>\n",
       "      <th>94</th>\n",
       "      <td>94</td>\n",
       "      <td>0.239886</td>\n",
       "      <td>7733</td>\n",
       "      <td>3.05</td>\n",
       "      <td>0.196165</td>\n",
       "      <td>15240</td>\n",
       "      <td>3.61</td>\n",
       "    </tr>\n",
       "    <tr>\n",
       "      <th>95</th>\n",
       "      <td>95</td>\n",
       "      <td>0.260269</td>\n",
       "      <td>5878</td>\n",
       "      <td>2.85</td>\n",
       "      <td>0.214677</td>\n",
       "      <td>12250</td>\n",
       "      <td>3.37</td>\n",
       "    </tr>\n",
       "    <tr>\n",
       "      <th>96</th>\n",
       "      <td>96</td>\n",
       "      <td>0.280109</td>\n",
       "      <td>4348</td>\n",
       "      <td>2.68</td>\n",
       "      <td>0.233091</td>\n",
       "      <td>9620</td>\n",
       "      <td>3.16</td>\n",
       "    </tr>\n",
       "    <tr>\n",
       "      <th>97</th>\n",
       "      <td>97</td>\n",
       "      <td>0.299013</td>\n",
       "      <td>3130</td>\n",
       "      <td>2.53</td>\n",
       "      <td>0.251082</td>\n",
       "      <td>7378</td>\n",
       "      <td>2.96</td>\n",
       "    </tr>\n",
       "    <tr>\n",
       "      <th>98</th>\n",
       "      <td>98</td>\n",
       "      <td>0.316578</td>\n",
       "      <td>2194</td>\n",
       "      <td>2.39</td>\n",
       "      <td>0.268304</td>\n",
       "      <td>5525</td>\n",
       "      <td>2.79</td>\n",
       "    </tr>\n",
       "    <tr>\n",
       "      <th>99</th>\n",
       "      <td>99</td>\n",
       "      <td>0.332406</td>\n",
       "      <td>1500</td>\n",
       "      <td>2.27</td>\n",
       "      <td>0.284403</td>\n",
       "      <td>4043</td>\n",
       "      <td>2.63</td>\n",
       "    </tr>\n",
       "    <tr>\n",
       "      <th>100</th>\n",
       "      <td>100</td>\n",
       "      <td>0.349027</td>\n",
       "      <td>1001</td>\n",
       "      <td>2.15</td>\n",
       "      <td>0.301467</td>\n",
       "      <td>2893</td>\n",
       "      <td>2.48</td>\n",
       "    </tr>\n",
       "    <tr>\n",
       "      <th>101</th>\n",
       "      <td>101</td>\n",
       "      <td>0.366478</td>\n",
       "      <td>652</td>\n",
       "      <td>2.04</td>\n",
       "      <td>0.319555</td>\n",
       "      <td>2021</td>\n",
       "      <td>2.33</td>\n",
       "    </tr>\n",
       "    <tr>\n",
       "      <th>102</th>\n",
       "      <td>102</td>\n",
       "      <td>0.384802</td>\n",
       "      <td>413</td>\n",
       "      <td>1.93</td>\n",
       "      <td>0.338728</td>\n",
       "      <td>1375</td>\n",
       "      <td>2.19</td>\n",
       "    </tr>\n",
       "    <tr>\n",
       "      <th>103</th>\n",
       "      <td>103</td>\n",
       "      <td>0.404042</td>\n",
       "      <td>254</td>\n",
       "      <td>1.83</td>\n",
       "      <td>0.359052</td>\n",
       "      <td>909</td>\n",
       "      <td>2.06</td>\n",
       "    </tr>\n",
       "    <tr>\n",
       "      <th>104</th>\n",
       "      <td>104</td>\n",
       "      <td>0.424244</td>\n",
       "      <td>151</td>\n",
       "      <td>1.73</td>\n",
       "      <td>0.380595</td>\n",
       "      <td>583</td>\n",
       "      <td>1.93</td>\n",
       "    </tr>\n",
       "    <tr>\n",
       "      <th>105</th>\n",
       "      <td>105</td>\n",
       "      <td>0.445456</td>\n",
       "      <td>87</td>\n",
       "      <td>1.63</td>\n",
       "      <td>0.403431</td>\n",
       "      <td>361</td>\n",
       "      <td>1.81</td>\n",
       "    </tr>\n",
       "    <tr>\n",
       "      <th>106</th>\n",
       "      <td>106</td>\n",
       "      <td>0.467729</td>\n",
       "      <td>48</td>\n",
       "      <td>1.54</td>\n",
       "      <td>0.427637</td>\n",
       "      <td>215</td>\n",
       "      <td>1.69</td>\n",
       "    </tr>\n",
       "    <tr>\n",
       "      <th>107</th>\n",
       "      <td>107</td>\n",
       "      <td>0.491116</td>\n",
       "      <td>26</td>\n",
       "      <td>1.45</td>\n",
       "      <td>0.453295</td>\n",
       "      <td>123</td>\n",
       "      <td>1.58</td>\n",
       "    </tr>\n",
       "    <tr>\n",
       "      <th>108</th>\n",
       "      <td>108</td>\n",
       "      <td>0.515671</td>\n",
       "      <td>13</td>\n",
       "      <td>1.36</td>\n",
       "      <td>0.480492</td>\n",
       "      <td>67</td>\n",
       "      <td>1.47</td>\n",
       "    </tr>\n",
       "    <tr>\n",
       "      <th>109</th>\n",
       "      <td>109</td>\n",
       "      <td>0.541455</td>\n",
       "      <td>6</td>\n",
       "      <td>1.28</td>\n",
       "      <td>0.509322</td>\n",
       "      <td>35</td>\n",
       "      <td>1.37</td>\n",
       "    </tr>\n",
       "    <tr>\n",
       "      <th>110</th>\n",
       "      <td>110</td>\n",
       "      <td>0.568528</td>\n",
       "      <td>3</td>\n",
       "      <td>1.20</td>\n",
       "      <td>0.539881</td>\n",
       "      <td>17</td>\n",
       "      <td>1.27</td>\n",
       "    </tr>\n",
       "    <tr>\n",
       "      <th>111</th>\n",
       "      <td>111</td>\n",
       "      <td>0.596954</td>\n",
       "      <td>1</td>\n",
       "      <td>1.13</td>\n",
       "      <td>0.572274</td>\n",
       "      <td>8</td>\n",
       "      <td>1.18</td>\n",
       "    </tr>\n",
       "    <tr>\n",
       "      <th>112</th>\n",
       "      <td>112</td>\n",
       "      <td>0.626802</td>\n",
       "      <td>1</td>\n",
       "      <td>1.05</td>\n",
       "      <td>0.606611</td>\n",
       "      <td>3</td>\n",
       "      <td>1.09</td>\n",
       "    </tr>\n",
       "    <tr>\n",
       "      <th>113</th>\n",
       "      <td>113</td>\n",
       "      <td>0.658142</td>\n",
       "      <td>0</td>\n",
       "      <td>0.98</td>\n",
       "      <td>0.643007</td>\n",
       "      <td>1</td>\n",
       "      <td>1.01</td>\n",
       "    </tr>\n",
       "    <tr>\n",
       "      <th>114</th>\n",
       "      <td>114</td>\n",
       "      <td>0.691049</td>\n",
       "      <td>0</td>\n",
       "      <td>0.92</td>\n",
       "      <td>0.681588</td>\n",
       "      <td>0</td>\n",
       "      <td>0.93</td>\n",
       "    </tr>\n",
       "    <tr>\n",
       "      <th>115</th>\n",
       "      <td>115</td>\n",
       "      <td>0.725602</td>\n",
       "      <td>0</td>\n",
       "      <td>0.86</td>\n",
       "      <td>0.722483</td>\n",
       "      <td>0</td>\n",
       "      <td>0.86</td>\n",
       "    </tr>\n",
       "    <tr>\n",
       "      <th>116</th>\n",
       "      <td>116</td>\n",
       "      <td>0.761882</td>\n",
       "      <td>0</td>\n",
       "      <td>0.79</td>\n",
       "      <td>0.761882</td>\n",
       "      <td>0</td>\n",
       "      <td>0.79</td>\n",
       "    </tr>\n",
       "    <tr>\n",
       "      <th>117</th>\n",
       "      <td>117</td>\n",
       "      <td>0.799976</td>\n",
       "      <td>0</td>\n",
       "      <td>0.74</td>\n",
       "      <td>0.799976</td>\n",
       "      <td>0</td>\n",
       "      <td>0.74</td>\n",
       "    </tr>\n",
       "    <tr>\n",
       "      <th>118</th>\n",
       "      <td>118</td>\n",
       "      <td>0.839975</td>\n",
       "      <td>0</td>\n",
       "      <td>0.68</td>\n",
       "      <td>0.839975</td>\n",
       "      <td>0</td>\n",
       "      <td>0.68</td>\n",
       "    </tr>\n",
       "    <tr>\n",
       "      <th>119</th>\n",
       "      <td>119</td>\n",
       "      <td>0.881973</td>\n",
       "      <td>0</td>\n",
       "      <td>0.63</td>\n",
       "      <td>0.881973</td>\n",
       "      <td>0</td>\n",
       "      <td>0.63</td>\n",
       "    </tr>\n",
       "  </tbody>\n",
       "</table>\n",
       "<p>120 rows × 7 columns</p>\n",
       "</div>"
      ],
      "text/plain": [
       "     Exact Age  Death Probability(M)  Male Number of Lives  \\\n",
       "0            0              0.006322                100000   \n",
       "1            1              0.000396                 99368   \n",
       "2            2              0.000282                 99328   \n",
       "3            3              0.000212                 99300   \n",
       "4            4              0.000186                 99279   \n",
       "5            5              0.000162                 99261   \n",
       "6            6              0.000144                 99245   \n",
       "7            7              0.000129                 99231   \n",
       "8            8              0.000114                 99218   \n",
       "9            9              0.000100                 99206   \n",
       "10          10              0.000093                 99197   \n",
       "11          11              0.000101                 99187   \n",
       "12          12              0.000136                 99177   \n",
       "13          13              0.000205                 99164   \n",
       "14          14              0.000299                 99144   \n",
       "15          15              0.000401                 99114   \n",
       "16          16              0.000505                 99074   \n",
       "17          17              0.000620                 99024   \n",
       "18          18              0.000747                 98963   \n",
       "19          19              0.000879                 98889   \n",
       "20          20              0.001019                 98802   \n",
       "21          21              0.001151                 98701   \n",
       "22          22              0.001252                 98588   \n",
       "23          23              0.001309                 98464   \n",
       "24          24              0.001335                 98335   \n",
       "25          25              0.001349                 98204   \n",
       "26          26              0.001369                 98072   \n",
       "27          27              0.001391                 97937   \n",
       "28          28              0.001422                 97801   \n",
       "29          29              0.001459                 97662   \n",
       "..         ...                   ...                   ...   \n",
       "90          90              0.164525                 18107   \n",
       "91          91              0.181600                 15128   \n",
       "92          92              0.199884                 12381   \n",
       "93          93              0.219331                  9906   \n",
       "94          94              0.239886                  7733   \n",
       "95          95              0.260269                  5878   \n",
       "96          96              0.280109                  4348   \n",
       "97          97              0.299013                  3130   \n",
       "98          98              0.316578                  2194   \n",
       "99          99              0.332406                  1500   \n",
       "100        100              0.349027                  1001   \n",
       "101        101              0.366478                   652   \n",
       "102        102              0.384802                   413   \n",
       "103        103              0.404042                   254   \n",
       "104        104              0.424244                   151   \n",
       "105        105              0.445456                    87   \n",
       "106        106              0.467729                    48   \n",
       "107        107              0.491116                    26   \n",
       "108        108              0.515671                    13   \n",
       "109        109              0.541455                     6   \n",
       "110        110              0.568528                     3   \n",
       "111        111              0.596954                     1   \n",
       "112        112              0.626802                     1   \n",
       "113        113              0.658142                     0   \n",
       "114        114              0.691049                     0   \n",
       "115        115              0.725602                     0   \n",
       "116        116              0.761882                     0   \n",
       "117        117              0.799976                     0   \n",
       "118        118              0.839975                     0   \n",
       "119        119              0.881973                     0   \n",
       "\n",
       "     Life Expectancy(M)  Death Probability(F)  Female number of Lives  \\\n",
       "0                 76.33              0.005313                  100000   \n",
       "1                 75.81              0.000346                   99469   \n",
       "2                 74.84              0.000221                   99434   \n",
       "3                 73.86              0.000162                   99412   \n",
       "4                 72.88              0.000131                   99396   \n",
       "5                 71.89              0.000116                   99383   \n",
       "6                 70.90              0.000106                   99372   \n",
       "7                 69.91              0.000098                   99361   \n",
       "8                 68.92              0.000091                   99351   \n",
       "9                 67.93              0.000086                   99342   \n",
       "10                66.94              0.000084                   99334   \n",
       "11                65.94              0.000087                   99325   \n",
       "12                64.95              0.000100                   99317   \n",
       "13                63.96              0.000124                   99307   \n",
       "14                62.97              0.000157                   99294   \n",
       "15                61.99              0.000194                   99279   \n",
       "16                61.02              0.000232                   99260   \n",
       "17                60.05              0.000269                   99237   \n",
       "18                59.08              0.000304                   99210   \n",
       "19                58.13              0.000338                   99180   \n",
       "20                57.18              0.000373                   99146   \n",
       "21                56.24              0.000409                   99109   \n",
       "22                55.30              0.000442                   99069   \n",
       "23                54.37              0.000471                   99025   \n",
       "24                53.44              0.000497                   98978   \n",
       "25                52.51              0.000524                   98929   \n",
       "26                51.58              0.000553                   98877   \n",
       "27                50.65              0.000582                   98822   \n",
       "28                49.72              0.000611                   98765   \n",
       "29                48.79              0.000641                   98705   \n",
       "..                  ...                   ...                     ...   \n",
       "90                 4.08              0.129475                   29650   \n",
       "91                 3.79              0.144443                   25811   \n",
       "92                 3.52              0.160590                   22083   \n",
       "93                 3.27              0.177853                   18536   \n",
       "94                 3.05              0.196165                   15240   \n",
       "95                 2.85              0.214677                   12250   \n",
       "96                 2.68              0.233091                    9620   \n",
       "97                 2.53              0.251082                    7378   \n",
       "98                 2.39              0.268304                    5525   \n",
       "99                 2.27              0.284403                    4043   \n",
       "100                2.15              0.301467                    2893   \n",
       "101                2.04              0.319555                    2021   \n",
       "102                1.93              0.338728                    1375   \n",
       "103                1.83              0.359052                     909   \n",
       "104                1.73              0.380595                     583   \n",
       "105                1.63              0.403431                     361   \n",
       "106                1.54              0.427637                     215   \n",
       "107                1.45              0.453295                     123   \n",
       "108                1.36              0.480492                      67   \n",
       "109                1.28              0.509322                      35   \n",
       "110                1.20              0.539881                      17   \n",
       "111                1.13              0.572274                       8   \n",
       "112                1.05              0.606611                       3   \n",
       "113                0.98              0.643007                       1   \n",
       "114                0.92              0.681588                       0   \n",
       "115                0.86              0.722483                       0   \n",
       "116                0.79              0.761882                       0   \n",
       "117                0.74              0.799976                       0   \n",
       "118                0.68              0.839975                       0   \n",
       "119                0.63              0.881973                       0   \n",
       "\n",
       "     Life Expectancy(F)  \n",
       "0                 81.11  \n",
       "1                 80.54  \n",
       "2                 79.57  \n",
       "3                 78.59  \n",
       "4                 77.60  \n",
       "5                 76.61  \n",
       "6                 75.62  \n",
       "7                 74.63  \n",
       "8                 73.64  \n",
       "9                 72.64  \n",
       "10                71.65  \n",
       "11                70.66  \n",
       "12                69.66  \n",
       "13                68.67  \n",
       "14                67.68  \n",
       "15                66.69  \n",
       "16                65.70  \n",
       "17                64.72  \n",
       "18                63.73  \n",
       "19                62.75  \n",
       "20                61.77  \n",
       "21                60.80  \n",
       "22                59.82  \n",
       "23                58.85  \n",
       "24                57.87  \n",
       "25                56.90  \n",
       "26                55.93  \n",
       "27                54.96  \n",
       "28                53.99  \n",
       "29                53.03  \n",
       "..                  ...  \n",
       "90                 4.85  \n",
       "91                 4.50  \n",
       "92                 4.18  \n",
       "93                 3.88  \n",
       "94                 3.61  \n",
       "95                 3.37  \n",
       "96                 3.16  \n",
       "97                 2.96  \n",
       "98                 2.79  \n",
       "99                 2.63  \n",
       "100                2.48  \n",
       "101                2.33  \n",
       "102                2.19  \n",
       "103                2.06  \n",
       "104                1.93  \n",
       "105                1.81  \n",
       "106                1.69  \n",
       "107                1.58  \n",
       "108                1.47  \n",
       "109                1.37  \n",
       "110                1.27  \n",
       "111                1.18  \n",
       "112                1.09  \n",
       "113                1.01  \n",
       "114                0.93  \n",
       "115                0.86  \n",
       "116                0.79  \n",
       "117                0.74  \n",
       "118                0.68  \n",
       "119                0.63  \n",
       "\n",
       "[120 rows x 7 columns]"
      ]
     },
     "execution_count": 21,
     "metadata": {},
     "output_type": "execute_result"
    }
   ],
   "source": [
    "data_2"
   ]
  },
  {
   "cell_type": "code",
   "execution_count": 22,
   "metadata": {
    "collapsed": true
   },
   "outputs": [],
   "source": [
    "male_number_lives = data_2[\"Male Number of Lives\"]\n",
    "female_number_lives = data_2[\"Female number of Lives\"]"
   ]
  },
  {
   "cell_type": "code",
   "execution_count": 23,
   "metadata": {},
   "outputs": [
    {
     "data": {
      "text/plain": [
       "0      100000\n",
       "1       99368\n",
       "2       99328\n",
       "3       99300\n",
       "4       99279\n",
       "5       99261\n",
       "6       99245\n",
       "7       99231\n",
       "8       99218\n",
       "9       99206\n",
       "10      99197\n",
       "11      99187\n",
       "12      99177\n",
       "13      99164\n",
       "14      99144\n",
       "15      99114\n",
       "16      99074\n",
       "17      99024\n",
       "18      98963\n",
       "19      98889\n",
       "20      98802\n",
       "21      98701\n",
       "22      98588\n",
       "23      98464\n",
       "24      98335\n",
       "25      98204\n",
       "26      98072\n",
       "27      97937\n",
       "28      97801\n",
       "29      97662\n",
       "        ...  \n",
       "90      18107\n",
       "91      15128\n",
       "92      12381\n",
       "93       9906\n",
       "94       7733\n",
       "95       5878\n",
       "96       4348\n",
       "97       3130\n",
       "98       2194\n",
       "99       1500\n",
       "100      1001\n",
       "101       652\n",
       "102       413\n",
       "103       254\n",
       "104       151\n",
       "105        87\n",
       "106        48\n",
       "107        26\n",
       "108        13\n",
       "109         6\n",
       "110         3\n",
       "111         1\n",
       "112         1\n",
       "113         0\n",
       "114         0\n",
       "115         0\n",
       "116         0\n",
       "117         0\n",
       "118         0\n",
       "119         0\n",
       "Name: Male Number of Lives, Length: 120, dtype: int64"
      ]
     },
     "execution_count": 23,
     "metadata": {},
     "output_type": "execute_result"
    }
   ],
   "source": [
    "male_number_lives"
   ]
  },
  {
   "cell_type": "code",
   "execution_count": 24,
   "metadata": {},
   "outputs": [
    {
     "data": {
      "text/plain": [
       "0      0.00632\n",
       "1      0.00040\n",
       "2      0.00028\n",
       "3      0.00021\n",
       "4      0.00018\n",
       "5      0.00016\n",
       "6      0.00014\n",
       "7      0.00013\n",
       "8      0.00012\n",
       "9      0.00009\n",
       "10     0.00010\n",
       "11     0.00010\n",
       "12     0.00013\n",
       "13     0.00020\n",
       "14     0.00030\n",
       "15     0.00040\n",
       "16     0.00050\n",
       "17     0.00061\n",
       "18     0.00074\n",
       "19     0.00087\n",
       "20     0.00101\n",
       "21     0.00113\n",
       "22     0.00124\n",
       "23     0.00129\n",
       "24     0.00131\n",
       "25     0.00132\n",
       "26     0.00135\n",
       "27     0.00136\n",
       "28     0.00139\n",
       "29     0.00142\n",
       "        ...   \n",
       "89     0.03163\n",
       "90     0.02979\n",
       "91     0.02747\n",
       "92     0.02475\n",
       "93     0.02173\n",
       "94     0.01855\n",
       "95     0.01530\n",
       "96     0.01218\n",
       "97     0.00936\n",
       "98     0.00694\n",
       "99     0.00499\n",
       "100    0.00349\n",
       "101    0.00239\n",
       "102    0.00159\n",
       "103    0.00103\n",
       "104    0.00064\n",
       "105    0.00039\n",
       "106    0.00022\n",
       "107    0.00013\n",
       "108    0.00007\n",
       "109    0.00003\n",
       "110    0.00002\n",
       "111    0.00000\n",
       "112    0.00001\n",
       "113    0.00000\n",
       "114    0.00000\n",
       "115    0.00000\n",
       "116    0.00000\n",
       "117    0.00000\n",
       "118    0.00000\n",
       "Length: 119, dtype: float64"
      ]
     },
     "execution_count": 24,
     "metadata": {},
     "output_type": "execute_result"
    }
   ],
   "source": [
    "male_death_at_age = []\n",
    "for e in range(0, len(male_number_lives) - 1):\n",
    "    male_death_at_age.append(male_number_lives[e] - male_number_lives[e + 1])\n",
    "male_death_at_age = pd.Series(np.array(male_death_at_age))\n",
    "male_death_at_age_probability = male_death_at_age / data_2[\"Male Number of Lives\"][0]\n",
    "male_death_at_age_probability"
   ]
  },
  {
   "cell_type": "code",
   "execution_count": 25,
   "metadata": {},
   "outputs": [
    {
     "data": {
      "text/plain": [
       "0      0.00531\n",
       "1      0.00035\n",
       "2      0.00022\n",
       "3      0.00016\n",
       "4      0.00013\n",
       "5      0.00011\n",
       "6      0.00011\n",
       "7      0.00010\n",
       "8      0.00009\n",
       "9      0.00008\n",
       "10     0.00009\n",
       "11     0.00008\n",
       "12     0.00010\n",
       "13     0.00013\n",
       "14     0.00015\n",
       "15     0.00019\n",
       "16     0.00023\n",
       "17     0.00027\n",
       "18     0.00030\n",
       "19     0.00034\n",
       "20     0.00037\n",
       "21     0.00040\n",
       "22     0.00044\n",
       "23     0.00047\n",
       "24     0.00049\n",
       "25     0.00052\n",
       "26     0.00055\n",
       "27     0.00057\n",
       "28     0.00060\n",
       "29     0.00064\n",
       "        ...   \n",
       "89     0.03881\n",
       "90     0.03839\n",
       "91     0.03728\n",
       "92     0.03547\n",
       "93     0.03296\n",
       "94     0.02990\n",
       "95     0.02630\n",
       "96     0.02242\n",
       "97     0.01853\n",
       "98     0.01482\n",
       "99     0.01150\n",
       "100    0.00872\n",
       "101    0.00646\n",
       "102    0.00466\n",
       "103    0.00326\n",
       "104    0.00222\n",
       "105    0.00146\n",
       "106    0.00092\n",
       "107    0.00056\n",
       "108    0.00032\n",
       "109    0.00018\n",
       "110    0.00009\n",
       "111    0.00005\n",
       "112    0.00002\n",
       "113    0.00001\n",
       "114    0.00000\n",
       "115    0.00000\n",
       "116    0.00000\n",
       "117    0.00000\n",
       "118    0.00000\n",
       "Length: 119, dtype: float64"
      ]
     },
     "execution_count": 25,
     "metadata": {},
     "output_type": "execute_result"
    }
   ],
   "source": [
    "female_death_at_age = []\n",
    "for e in range(0, len(female_number_lives) - 1):\n",
    "    female_death_at_age.append(female_number_lives[e] - female_number_lives[e + 1])\n",
    "female_death_at_age = pd.Series(np.array(female_death_at_age))\n",
    "female_death_at_age_probability = female_death_at_age / data_2[\"Female number of Lives\"][0]\n",
    "female_death_at_age_probability"
   ]
  },
  {
   "cell_type": "code",
   "execution_count": 26,
   "metadata": {},
   "outputs": [
    {
     "data": {
      "text/plain": [
       "<matplotlib.legend.Legend at 0x1b5722d7f98>"
      ]
     },
     "execution_count": 26,
     "metadata": {},
     "output_type": "execute_result"
    },
    {
     "data": {
      "image/png": "[encoded data removed]",
      "text/plain": [
       "<matplotlib.figure.Figure at 0x1b57226d198>"
      ]
     },
     "metadata": {},
     "output_type": "display_data"
    }
   ],
   "source": [
    "plt.plot(female_death_at_age_probability, label=\"female\", color='r')\n",
    "plt.plot(male_death_at_age_probability, label=\"male\", color='b')\n",
    "plt.legend()"
   ]
  },
  {
   "cell_type": "markdown",
   "metadata": {},
   "source": [
    "## Finding Mean, Median, Mode"
   ]
  },
  {
   "cell_type": "markdown",
   "metadata": {},
   "source": [
    "### Male"
   ]
  },
  {
   "cell_type": "markdown",
   "metadata": {},
   "source": [
    "#### Mean"
   ]
  },
  {
   "cell_type": "code",
   "execution_count": 27,
   "metadata": {},
   "outputs": [
    {
     "data": {
      "text/plain": [
       "75.830420000000004"
      ]
     },
     "execution_count": 27,
     "metadata": {},
     "output_type": "execute_result"
    }
   ],
   "source": [
    "male_mean = 0\n",
    "for i in range(0, 119):\n",
    "    male_mean += male_death_at_age_probability.index[i] * male_death_at_age_probability[i]\n",
    "male_mean"
   ]
  },
  {
   "cell_type": "markdown",
   "metadata": {},
   "source": [
    "#### Median"
   ]
  },
  {
   "cell_type": "code",
   "execution_count": 66,
   "metadata": {},
   "outputs": [
    {
     "data": {
      "text/plain": [
       "0.00249"
      ]
     },
     "execution_count": 66,
     "metadata": {},
     "output_type": "execute_result"
    }
   ],
   "source": [
    "male_sorted_prob = sorted(male_death_at_age_probability)\n",
    "male_sorted_prob[int(np.ceil(len(male_sorted_prob) / 2))]"
   ]
  },
  {
   "cell_type": "code",
   "execution_count": 67,
   "metadata": {},
   "outputs": [
    {
     "data": {
      "text/plain": [
       "43    0.00249\n",
       "dtype: float64"
      ]
     },
     "execution_count": 67,
     "metadata": {},
     "output_type": "execute_result"
    }
   ],
   "source": [
    "male_death_at_age_probability[male_death_at_age_probability == 0.00249]"
   ]
  },
  {
   "cell_type": "markdown",
   "metadata": {},
   "source": [
    "## Median is 43??"
   ]
  },
  {
   "cell_type": "code",
   "execution_count": 29,
   "metadata": {},
   "outputs": [
    {
     "data": {
      "text/plain": [
       "0    0.00013\n",
       "dtype: float64"
      ]
     },
     "execution_count": 29,
     "metadata": {},
     "output_type": "execute_result"
    }
   ],
   "source": [
    "male_death_at_age_probability[:114].mode()"
   ]
  },
  {
   "cell_type": "markdown",
   "metadata": {},
   "source": [
    "### Female"
   ]
  },
  {
   "cell_type": "code",
   "execution_count": 30,
   "metadata": {},
   "outputs": [
    {
     "data": {
      "text/plain": [
       "80.613650000000021"
      ]
     },
     "execution_count": 30,
     "metadata": {},
     "output_type": "execute_result"
    }
   ],
   "source": [
    "female_mean = 0\n",
    "for i in range(0,119):\n",
    "    female_mean += female_death_at_age_probability.index[i] * female_death_at_age_probability[i]\n",
    "female_mean"
   ]
  },
  {
   "cell_type": "code",
   "execution_count": 69,
   "metadata": {},
   "outputs": [
    {
     "data": {
      "text/plain": [
       "0.0022200000000000002"
      ]
     },
     "execution_count": 69,
     "metadata": {},
     "output_type": "execute_result"
    }
   ],
   "source": [
    "female_sorted_prob = sorted(female_death_at_age_probability)\n",
    "female_sorted_prob[int(np.ceil(len(female_sorted_prob) / 2))]"
   ]
  },
  {
   "cell_type": "code",
   "execution_count": 70,
   "metadata": {},
   "outputs": [
    {
     "data": {
      "text/plain": [
       "104    0.00222\n",
       "dtype: float64"
      ]
     },
     "execution_count": 70,
     "metadata": {},
     "output_type": "execute_result"
    }
   ],
   "source": [
    "female_death_at_age_probability[female_death_at_age_probability == 0.0022200000000000002]"
   ]
  },
  {
   "cell_type": "code",
   "execution_count": 32,
   "metadata": {},
   "outputs": [
    {
     "data": {
      "text/plain": [
       "0    0.00009\n",
       "dtype: float64"
      ]
     },
     "execution_count": 32,
     "metadata": {},
     "output_type": "execute_result"
    }
   ],
   "source": [
    "female_death_at_age_probability[:114].mode()"
   ]
  },
  {
   "cell_type": "markdown",
   "metadata": {},
   "source": [
    "## Percentage of people who die before each mean, median, mode"
   ]
  },
  {
   "cell_type": "code",
   "execution_count": 57,
   "metadata": {},
   "outputs": [
    {
     "name": "stdout",
     "output_type": "stream",
     "text": [
      "44\n"
     ]
    }
   ],
   "source": [
    "sums = 0\n",
    "counter = 0\n",
    "for i in male_death_at_age_probability:\n",
    "    sums += i\n",
    "    counter += 1\n",
    "    if sums >= 0.05:\n",
    "        print(counter)\n",
    "        break"
   ]
  },
  {
   "cell_type": "code",
   "execution_count": null,
   "metadata": {
    "collapsed": true
   },
   "outputs": [],
   "source": []
  }
 ],
 "metadata": {
  "kernelspec": {
   "display_name": "Python 3",
   "language": "python",
   "name": "python3"
  },
  "language_info": {
   "codemirror_mode": {
    "name": "ipython",
    "version": 3
   },
   "file_extension": ".py",
   "mimetype": "text/x-python",
   "name": "python",
   "nbconvert_exporter": "python",
   "pygments_lexer": "ipython3",
   "version": "3.6.1"
  }
 },
 "nbformat": 4,
 "nbformat_minor": 2
}
